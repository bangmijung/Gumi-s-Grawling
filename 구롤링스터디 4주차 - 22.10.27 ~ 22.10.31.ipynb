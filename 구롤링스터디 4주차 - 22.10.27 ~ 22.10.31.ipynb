{
 "cells": [
  {
   "cell_type": "markdown",
   "metadata": {
    "id": "qXk5bF0jgbO6"
   },
   "source": [
    "# <키워드, 날짜> 기준 네이버 뉴스 크롤러\n",
    "\n",
    "# Ctrl + Enter 여러번 누르거나\n",
    "# Ctrl + F9 한번 누르기"
   ]
  },
  {
   "cell_type": "code",
   "execution_count": 1,
   "metadata": {
    "id": "5Hc254iYlGTR"
   },
   "outputs": [
    {
     "name": "stdout",
     "output_type": "stream",
     "text": [
      "Collecting BeautifulSoup\n",
      "  Downloading BeautifulSoup-3.2.2.tar.gz (32 kB)\n",
      "  Downloading BeautifulSoup-3.2.1.tar.gz (31 kB)\n",
      "  Downloading BeautifulSoup-3.2.0.tar.gz (31 kB)\n"
     ]
    },
    {
     "name": "stderr",
     "output_type": "stream",
     "text": [
      "    ERROR: Command errored out with exit status 1:\n",
      "     command: 'C:\\Users\\bangm\\anaconda3\\python.exe' -c 'import io, os, sys, setuptools, tokenize; sys.argv[0] = '\"'\"'C:\\\\Users\\\\bangm\\\\AppData\\\\Local\\\\Temp\\\\pip-install-tmpji2pe\\\\beautifulsoup_0922483021fa4417b267551a7c8b310a\\\\setup.py'\"'\"'; __file__='\"'\"'C:\\\\Users\\\\bangm\\\\AppData\\\\Local\\\\Temp\\\\pip-install-tmpji2pe\\\\beautifulsoup_0922483021fa4417b267551a7c8b310a\\\\setup.py'\"'\"';f = getattr(tokenize, '\"'\"'open'\"'\"', open)(__file__) if os.path.exists(__file__) else io.StringIO('\"'\"'from setuptools import setup; setup()'\"'\"');code = f.read().replace('\"'\"'\\r\\n'\"'\"', '\"'\"'\\n'\"'\"');f.close();exec(compile(code, __file__, '\"'\"'exec'\"'\"'))' egg_info --egg-base 'C:\\Users\\bangm\\AppData\\Local\\Temp\\pip-pip-egg-info-gbp45ldd'\n",
      "         cwd: C:\\Users\\bangm\\AppData\\Local\\Temp\\pip-install-tmpji2pe\\beautifulsoup_0922483021fa4417b267551a7c8b310a\\\n",
      "    Complete output (6 lines):\n",
      "    Traceback (most recent call last):\n",
      "      File \"<string>\", line 1, in <module>\n",
      "      File \"C:\\Users\\bangm\\AppData\\Local\\Temp\\pip-install-tmpji2pe\\beautifulsoup_0922483021fa4417b267551a7c8b310a\\setup.py\", line 3\n",
      "        \"You're trying to run a very old release of Beautiful Soup under Python 3. This will not work.\"<>\"Please use Beautiful Soup 4, available through the pip package 'beautifulsoup4'.\"\n",
      "                                                                                                       ^\n",
      "    SyntaxError: invalid syntax\n",
      "    ----------------------------------------\n",
      "WARNING: Discarding https://files.pythonhosted.org/packages/40/f2/6c9f2f3e696ee6a1fb0e4d7850617e224ed2b0b1e872110abffeca2a09d4/BeautifulSoup-3.2.2.tar.gz#sha256=a04169602bff6e3138b1259dbbf491f5a27f9499dea9a8fbafd48843f9d89970 (from https://pypi.org/simple/beautifulsoup/). Command errored out with exit status 1: python setup.py egg_info Check the logs for full command output.\n",
      "    ERROR: Command errored out with exit status 1:\n",
      "     command: 'C:\\Users\\bangm\\anaconda3\\python.exe' -c 'import io, os, sys, setuptools, tokenize; sys.argv[0] = '\"'\"'C:\\\\Users\\\\bangm\\\\AppData\\\\Local\\\\Temp\\\\pip-install-tmpji2pe\\\\beautifulsoup_42a11c19678d472eab70f3f4f8cc3f55\\\\setup.py'\"'\"'; __file__='\"'\"'C:\\\\Users\\\\bangm\\\\AppData\\\\Local\\\\Temp\\\\pip-install-tmpji2pe\\\\beautifulsoup_42a11c19678d472eab70f3f4f8cc3f55\\\\setup.py'\"'\"';f = getattr(tokenize, '\"'\"'open'\"'\"', open)(__file__) if os.path.exists(__file__) else io.StringIO('\"'\"'from setuptools import setup; setup()'\"'\"');code = f.read().replace('\"'\"'\\r\\n'\"'\"', '\"'\"'\\n'\"'\"');f.close();exec(compile(code, __file__, '\"'\"'exec'\"'\"'))' egg_info --egg-base 'C:\\Users\\bangm\\AppData\\Local\\Temp\\pip-pip-egg-info-79uvmsm9'\n",
      "         cwd: C:\\Users\\bangm\\AppData\\Local\\Temp\\pip-install-tmpji2pe\\beautifulsoup_42a11c19678d472eab70f3f4f8cc3f55\\\n",
      "    Complete output (6 lines):\n",
      "    Traceback (most recent call last):\n",
      "      File \"<string>\", line 1, in <module>\n",
      "      File \"C:\\Users\\bangm\\AppData\\Local\\Temp\\pip-install-tmpji2pe\\beautifulsoup_42a11c19678d472eab70f3f4f8cc3f55\\setup.py\", line 22\n",
      "        print \"Unit tests have failed!\"\n",
      "              ^\n",
      "    SyntaxError: Missing parentheses in call to 'print'. Did you mean print(\"Unit tests have failed!\")?\n",
      "    ----------------------------------------\n",
      "WARNING: Discarding https://files.pythonhosted.org/packages/1e/ee/295988deca1a5a7accd783d0dfe14524867e31abb05b6c0eeceee49c759d/BeautifulSoup-3.2.1.tar.gz#sha256=6a8cb4401111e011b579c8c52a51cdab970041cc543814bbd9577a4529fe1cdb (from https://pypi.org/simple/beautifulsoup/). Command errored out with exit status 1: python setup.py egg_info Check the logs for full command output.\n",
      "    ERROR: Command errored out with exit status 1:\n",
      "     command: 'C:\\Users\\bangm\\anaconda3\\python.exe' -c 'import io, os, sys, setuptools, tokenize; sys.argv[0] = '\"'\"'C:\\\\Users\\\\bangm\\\\AppData\\\\Local\\\\Temp\\\\pip-install-tmpji2pe\\\\beautifulsoup_2dbae5908fe54323b1d65bcd32a6dbcd\\\\setup.py'\"'\"'; __file__='\"'\"'C:\\\\Users\\\\bangm\\\\AppData\\\\Local\\\\Temp\\\\pip-install-tmpji2pe\\\\beautifulsoup_2dbae5908fe54323b1d65bcd32a6dbcd\\\\setup.py'\"'\"';f = getattr(tokenize, '\"'\"'open'\"'\"', open)(__file__) if os.path.exists(__file__) else io.StringIO('\"'\"'from setuptools import setup; setup()'\"'\"');code = f.read().replace('\"'\"'\\r\\n'\"'\"', '\"'\"'\\n'\"'\"');f.close();exec(compile(code, __file__, '\"'\"'exec'\"'\"'))' egg_info --egg-base 'C:\\Users\\bangm\\AppData\\Local\\Temp\\pip-pip-egg-info-lw6ols7l'\n",
      "         cwd: C:\\Users\\bangm\\AppData\\Local\\Temp\\pip-install-tmpji2pe\\beautifulsoup_2dbae5908fe54323b1d65bcd32a6dbcd\\\n",
      "    Complete output (6 lines):\n",
      "    Traceback (most recent call last):\n",
      "      File \"<string>\", line 1, in <module>\n",
      "      File \"C:\\Users\\bangm\\AppData\\Local\\Temp\\pip-install-tmpji2pe\\beautifulsoup_2dbae5908fe54323b1d65bcd32a6dbcd\\setup.py\", line 22\n",
      "        print \"Unit tests have failed!\"\n",
      "              ^\n",
      "    SyntaxError: Missing parentheses in call to 'print'. Did you mean print(\"Unit tests have failed!\")?\n",
      "    ----------------------------------------\n",
      "WARNING: Discarding https://files.pythonhosted.org/packages/33/fe/15326560884f20d792d3ffc7fe8f639aab88647c9d46509a240d9bfbb6b1/BeautifulSoup-3.2.0.tar.gz#sha256=0dc52d07516c1665c9dd9f0a390a7a054bfb7b147a50b2866fb116b8909dfd37 (from https://pypi.org/simple/beautifulsoup/). Command errored out with exit status 1: python setup.py egg_info Check the logs for full command output.\n",
      "ERROR: Could not find a version that satisfies the requirement BeautifulSoup (from versions: 3.2.0, 3.2.1, 3.2.2)\n",
      "ERROR: No matching distribution found for BeautifulSoup\n"
     ]
    },
    {
     "name": "stdout",
     "output_type": "stream",
     "text": [
      "Requirement already satisfied: openpyxl in c:\\users\\bangm\\anaconda3\\lib\\site-packages (3.0.9)\n",
      "Requirement already satisfied: et-xmlfile in c:\\users\\bangm\\anaconda3\\lib\\site-packages (from openpyxl) (1.1.0)\n"
     ]
    }
   ],
   "source": [
    "!pip install BeautifulSoup\n",
    "!pip install openpyxl"
   ]
  },
  {
   "cell_type": "code",
   "execution_count": 2,
   "metadata": {
    "id": "rEY4J2LDhoqU"
   },
   "outputs": [
    {
     "name": "stdout",
     "output_type": "stream",
     "text": [
      "KEYWORD: \n",
      "서강대\n",
      "START_DATE(YYYY.MM.DD): \n",
      "2022.10.01\n",
      "END_DATE(YYYY.MM.DD): \n",
      "2022.10.15\n",
      "NUMBER: \n",
      "100\n"
     ]
    }
   ],
   "source": [
    "print(\"KEYWORD: \")\n",
    "my_keyword = input()\n",
    "print(\"START_DATE(YYYY.MM.DD): \")\n",
    "my_start_date1 = input()\n",
    "my_start_date2 = my_start_date1.replace('.','')\n",
    "print(\"END_DATE(YYYY.MM.DD): \")\n",
    "my_end_date1 = input()\n",
    "my_end_date2 = my_end_date1.replace('.','')\n",
    "print(\"NUMBER: \")\n",
    "my_number = int(input())"
   ]
  },
  {
   "cell_type": "markdown",
   "metadata": {
    "id": "zoLYFkuFhpgs"
   },
   "source": [
    "### 명령어 입력"
   ]
  },
  {
   "cell_type": "markdown",
   "metadata": {
    "id": "hGAbtdhmgo2M"
   },
   "source": [
    "### 완성코드"
   ]
  },
  {
   "cell_type": "code",
   "execution_count": 3,
   "metadata": {
    "id": "-fopJfOOiOVS"
   },
   "outputs": [],
   "source": [
    "import requests\n",
    "from bs4 import BeautifulSoup\n",
    "\n",
    "num_list =[]\n",
    "\n",
    "for num in range(0,my_number,10):\n",
    "    num_list.append(num)"
   ]
  },
  {
   "cell_type": "code",
   "execution_count": 4,
   "metadata": {
    "id": "uuML64MbS2Yk"
   },
   "outputs": [],
   "source": [
    "articles = []\n",
    "\n",
    "for number in num_list:\n",
    "    URL = 'https://search.naver.com/search.naver?where=news&sm=tab_pge&query={search_word}&sort=0&photo=0&field=0&pd=3&ds={startdate}&de={enddate}&cluster_rank=37&mynews=0&office_type=0&office_section_code=0&news_office_checked=&nso=so:r,p:from{start_date}to{end_date},a:all&start={page_num}'\n",
    "    headers = {'user-agent':'Mozilla/5.0 (Windows NT 10.0; Win64; x64) AppleWebKit/537.36 (KHTML, like Gecko) Chrome/88.0.4324.150 Safari/537.36',\n",
    "        'accept':'text/html,application/xhtml+xml,application/xml;q=0.9,image/avif,image/webp,image/apng,*/*;q=0.8,application/signed-exchange;v=b3;q=0.9'}\n",
    "    url = URL.format(search_word = my_keyword ,startdate= my_start_date1,enddate = my_end_date1,\n",
    "                                   start_date = my_start_date2,end_date = my_end_date2 ,page_num = number)\n",
    "    \n",
    "    response = requests.get(url, headers = headers)\n",
    "    soup=BeautifulSoup(response.text,'lxml')\n",
    "    news_area = soup.find_all('div', {'class' : 'news_area'})\n",
    "    articles += news_area"
   ]
  },
  {
   "cell_type": "code",
   "execution_count": 5,
   "metadata": {
    "id": "0d3OXs5BY8Z1"
   },
   "outputs": [],
   "source": [
    "dates = []\n",
    "presses = []\n",
    "titles = []\n",
    "summs = []\n",
    "links = []\n",
    "\n",
    "for article in articles:\n",
    "    article_link = article.find('a', attrs = {'class' : 'news_tit'})['href']\n",
    "    article_title = article.find('a', attrs = {'class' : 'news_tit'})['title']\n",
    "    article_summ = article.find('a', attrs = {'class' : 'api_txt_lines dsc_txt_wrap'}).get_text()\n",
    "    date2 = article.find('span', attrs = {'class' : 'info'}).get_text()\n",
    "    press2 = article.find('a', {'class': 'info press'}).get_text()\n",
    "    press2 = press2.replace(\"언론사 선정\",'')\n",
    "    dates.append(date2)\n",
    "    presses.append(press2)\n",
    "    titles.append(article_title)\n",
    "    summs.append(article_summ)\n",
    "    links.append(article_link)"
   ]
  },
  {
   "cell_type": "code",
   "execution_count": 6,
   "metadata": {
    "id": "z-nuDexjBDui"
   },
   "outputs": [],
   "source": [
    "import pandas as pd\n",
    "df = pd.DataFrame({'날짜': dates,\n",
    "                   '언론사': presses,\n",
    "                   '제목': titles,\n",
    "                   '요약': summs,\n",
    "                   '링크' : links})"
   ]
  },
  {
   "cell_type": "code",
   "execution_count": 7,
   "metadata": {
    "id": "H1Krh7fi3ipI"
   },
   "outputs": [],
   "source": [
    "df.to_excel('rawdata.xlsx')"
   ]
  },
  {
   "cell_type": "code",
   "execution_count": 8,
   "metadata": {
    "id": "AqBtCwstoihq"
   },
   "outputs": [],
   "source": [
    "import openpyxl\n",
    "from openpyxl import Workbook\n",
    "from openpyxl.utils.dataframe import dataframe_to_rows\n",
    "wb1 = openpyxl.load_workbook('rawdata.xlsx', data_only=True)\n",
    "excel_sheet = wb1.active"
   ]
  },
  {
   "cell_type": "code",
   "execution_count": 9,
   "metadata": {
    "id": "rq0h9mFQ4Yuo"
   },
   "outputs": [],
   "source": [
    "wb1.save(my_keyword+'_'+my_start_date1+\"_to_\"+my_end_date1+'('+str(len(df))+'개)'+'.xlsx')"
   ]
  },
  {
   "cell_type": "code",
   "execution_count": null,
   "metadata": {
    "id": "0tE_QNPR2CWv"
   },
   "outputs": [],
   "source": []
  }
 ],
 "metadata": {
  "colab": {
   "collapsed_sections": [],
   "private_outputs": true,
   "provenance": []
  },
  "kernelspec": {
   "display_name": "Python 3 (ipykernel)",
   "language": "python",
   "name": "python3"
  },
  "language_info": {
   "codemirror_mode": {
    "name": "ipython",
    "version": 3
   },
   "file_extension": ".py",
   "mimetype": "text/x-python",
   "name": "python",
   "nbconvert_exporter": "python",
   "pygments_lexer": "ipython3",
   "version": "3.9.7"
  }
 },
 "nbformat": 4,
 "nbformat_minor": 1
}
